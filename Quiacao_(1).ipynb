{
  "cells": [
    {
      "cell_type": "markdown",
      "id": "dc239e91-3f58-4ea8-a9dc-f0ed92e6ef5e",
      "metadata": {
        "id": "dc239e91-3f58-4ea8-a9dc-f0ed92e6ef5e"
      },
      "source": [
        "**Name: Aubrey Rose Quiacao**\n",
        "\n",
        "\n",
        "**Section:BSDS 4A**\n",
        "# Laboratory Task 5\n",
        "1. Perform Standard Imports\n",
        "\n",
        "\n",
        "2. Create a function called set_seed() that accepts seed: int as a parameter, this function must return nothing but just set the seed to a certain value.\n",
        "\n",
        "\n",
        "3. Create a NumPy array called \"arr\" that contains 6 random integers between 0 (inclusive) and 5 (exclusive), call the set_seed() function and use 42 as the seed parameter.\n",
        "\n",
        "\n",
        "4. Create a tensor \"x\" from the array above\n",
        "\n",
        "\n",
        "5. Change the dtype of x from int32 to int64\n",
        "\n",
        "\n",
        "6. Reshape x into a 3x2 tensor\n",
        "There are several ways to do this.\n",
        "\n",
        "\n",
        "7. Return the right-hand column of tensor x\n",
        "\n",
        "\n",
        "8. Without changing x, return a tensor of square values of x\n",
        "There are several ways to do this.\n",
        "\n",
        "\n",
        "9. Create a tensor y with the same number of elements as x, that can be matrix-multiplied with x\n",
        "Use PyTorch directly (not NumPy) to create a tensor of random integers between 0 (inclusive) and 5 (exclusive). Use 42 as seed.\n",
        "Think about what shape it should have to permit matrix multiplication.\n",
        "\n",
        "\n",
        "10. Find the matrix product of x and y."
      ]
    },
    {
      "cell_type": "code",
      "execution_count": null,
      "id": "b0febe94-8116-4a2c-b2a5-3a5810863a2c",
      "metadata": {
        "id": "b0febe94-8116-4a2c-b2a5-3a5810863a2c"
      },
      "outputs": [],
      "source": [
        "import torch\n",
        "import numpy as np\n",
        "import torch"
      ]
    },
    {
      "cell_type": "code",
      "execution_count": null,
      "id": "4505182f-d722-4a8e-bcb5-17835aad6a83",
      "metadata": {
        "id": "4505182f-d722-4a8e-bcb5-17835aad6a83"
      },
      "outputs": [],
      "source": [
        "def set_seed(seed: int):\n",
        "    np.random.seed(seed)\n",
        "    torch.manual_seed(seed)"
      ]
    },
    {
      "cell_type": "code",
      "execution_count": null,
      "id": "b620b32a-0148-4d03-b6c1-31cbda2ad874",
      "metadata": {
        "scrolled": true,
        "id": "b620b32a-0148-4d03-b6c1-31cbda2ad874",
        "outputId": "275781f1-0212-4dde-bea1-a23a014616fd"
      },
      "outputs": [
        {
          "name": "stdout",
          "output_type": "stream",
          "text": [
            "arr [3 4 2 4 4 1]\n"
          ]
        }
      ],
      "source": [
        "set_seed(42)\n",
        "arr = np.random.randint(0, 5, size=6)\n",
        "print (\"arr\", arr)"
      ]
    },
    {
      "cell_type": "code",
      "execution_count": null,
      "id": "7040d924-097d-495d-b73d-4b9a82c58f41",
      "metadata": {
        "id": "7040d924-097d-495d-b73d-4b9a82c58f41",
        "outputId": "ffaa6333-aabb-4eea-89db-9523f60c7835"
      },
      "outputs": [
        {
          "name": "stdout",
          "output_type": "stream",
          "text": [
            "x tensor([3, 4, 2, 4, 4, 1], dtype=torch.int32)\n"
          ]
        }
      ],
      "source": [
        "x = torch.from_numpy(arr)\n",
        "print(\"x\", x)"
      ]
    },
    {
      "cell_type": "code",
      "execution_count": null,
      "id": "6d490671-57e2-4f27-99c0-981f93f318a3",
      "metadata": {
        "id": "6d490671-57e2-4f27-99c0-981f93f318a3",
        "outputId": "60a6297e-1484-4157-b2c3-f811482262e0"
      },
      "outputs": [
        {
          "name": "stdout",
          "output_type": "stream",
          "text": [
            "x dtype: tensor([[3, 4],\n",
            "        [2, 4],\n",
            "        [4, 1]])\n"
          ]
        }
      ],
      "source": [
        "x = x.to(torch.int64)\n",
        "print (\"x dtype:\", x)"
      ]
    },
    {
      "cell_type": "code",
      "execution_count": null,
      "id": "a36fe1e1-1e71-4220-982c-50d70dbba4c7",
      "metadata": {
        "id": "a36fe1e1-1e71-4220-982c-50d70dbba4c7",
        "outputId": "84498189-2348-4d52-e261-2cd75f0ac52a"
      },
      "outputs": [
        {
          "name": "stdout",
          "output_type": "stream",
          "text": [
            "x  reshaped:\n",
            " tensor([[3, 4],\n",
            "        [2, 4],\n",
            "        [4, 1]], dtype=torch.int32)\n"
          ]
        }
      ],
      "source": [
        "x = x.view(3, 2)\n",
        "print(\"x  reshaped:\\n\", x)"
      ]
    },
    {
      "cell_type": "code",
      "execution_count": null,
      "id": "21ded982-edb6-42b1-9e90-c1e7c021302d",
      "metadata": {
        "id": "21ded982-edb6-42b1-9e90-c1e7c021302d",
        "outputId": "2952d952-c380-446a-b1b1-e536841be45c"
      },
      "outputs": [
        {
          "name": "stdout",
          "output_type": "stream",
          "text": [
            "Right column tensor([4, 4, 1], dtype=torch.int32)\n"
          ]
        }
      ],
      "source": [
        "right_col = x[: ,1]\n",
        "print (\"Right column\", right_col)"
      ]
    },
    {
      "cell_type": "code",
      "execution_count": null,
      "id": "586c02b1-b6a5-45a7-a6f5-bbec91409a29",
      "metadata": {
        "id": "586c02b1-b6a5-45a7-a6f5-bbec91409a29",
        "outputId": "389ad07f-f25a-435b-8881-34b0be61488a"
      },
      "outputs": [
        {
          "name": "stdout",
          "output_type": "stream",
          "text": [
            "Squared x:\n",
            " tensor([[ 9, 16],\n",
            "        [ 4, 16],\n",
            "        [16,  1]])\n"
          ]
        }
      ],
      "source": [
        "squared = x ** 2\n",
        "print (\"Squared x:\\n\", squared)"
      ]
    },
    {
      "cell_type": "code",
      "execution_count": null,
      "id": "140add92-673e-442a-9745-4a8061e6054c",
      "metadata": {
        "id": "140add92-673e-442a-9745-4a8061e6054c",
        "outputId": "46dc2fbe-2d3d-4e7d-f86c-175bcb4d75fa"
      },
      "outputs": [
        {
          "name": "stdout",
          "output_type": "stream",
          "text": [
            "y:\n",
            ", y\n"
          ]
        }
      ],
      "source": [
        "torch.manual_seed(42)\n",
        "y = torch.randint( 0, 5, (2, 3))\n",
        "print (\"y:\\n, y\")"
      ]
    },
    {
      "cell_type": "code",
      "execution_count": null,
      "id": "0c940249-b7d0-4fbe-a584-9a891aef6b6e",
      "metadata": {
        "id": "0c940249-b7d0-4fbe-a584-9a891aef6b6e",
        "outputId": "3dae93cd-0999-4b68-d5c5-e7de5a786cb9"
      },
      "outputs": [
        {
          "name": "stdout",
          "output_type": "stream",
          "text": [
            "Matrix product:\n",
            " tensor([[22, 10,  3],\n",
            "        [20,  8,  2],\n",
            "        [12,  9,  4]])\n"
          ]
        }
      ],
      "source": [
        "result = torch.matmul(x,y)\n",
        "print (\"Matrix product:\\n\", result)"
      ]
    }
  ],
  "metadata": {
    "kernelspec": {
      "display_name": "Python 3 (ipykernel)",
      "language": "python",
      "name": "python3"
    },
    "language_info": {
      "codemirror_mode": {
        "name": "ipython",
        "version": 3
      },
      "file_extension": ".py",
      "mimetype": "text/x-python",
      "name": "python",
      "nbconvert_exporter": "python",
      "pygments_lexer": "ipython3",
      "version": "3.9.0"
    },
    "colab": {
      "provenance": []
    }
  },
  "nbformat": 4,
  "nbformat_minor": 5
}